{
 "cells": [
  {
   "cell_type": "code",
   "execution_count": 6,
   "id": "f70ec2fc-257a-478d-92a3-008a3c5808fb",
   "metadata": {},
   "outputs": [
    {
     "name": "stdout",
     "output_type": "stream",
     "text": [
      "[2, 3, 4, 5, 6, 7, 'mango']\n"
     ]
    }
   ],
   "source": [
    "# Q1. Create a list in python using the followings: 2,3,4,5,6,7 with variable ‘a’\n",
    "\n",
    "# Add ‘mango to the above list\n",
    "\n",
    "# Also add banana, grapes & orange in the list \n",
    "\n",
    "# insert apple in the 5th position of a variable ‘a’\n",
    "\n",
    "# Remove last item from the list\t\n",
    "\n",
    "\n",
    "a = [ 2,3,4,5,6,7]\n",
    "a.append(\"mango\")\n",
    "print(a)"
   ]
  },
  {
   "cell_type": "code",
   "execution_count": 13,
   "id": "ae6a5708-4046-4972-b8ea-80ab391a9809",
   "metadata": {},
   "outputs": [],
   "source": [
    "a = [2, 3, 4, 5, 6, 7, 'mango']\n",
    "b = [\"banana\",\"grapes\",\"orange\"]\n",
    "a.extend(b)"
   ]
  },
  {
   "cell_type": "code",
   "execution_count": 14,
   "id": "409d48a9-7f46-4836-9ae0-3438302240b2",
   "metadata": {},
   "outputs": [
    {
     "name": "stdout",
     "output_type": "stream",
     "text": [
      "[2, 3, 4, 5, 6, 7, 'mango', 'banana', 'grapes', 'orange']\n"
     ]
    }
   ],
   "source": [
    "print(a)"
   ]
  },
  {
   "cell_type": "code",
   "execution_count": 15,
   "id": "c661070b-1329-43c2-a9ce-3bd710590b8d",
   "metadata": {},
   "outputs": [
    {
     "name": "stdout",
     "output_type": "stream",
     "text": [
      "[2, 3, 4, 5, 'apple', 6, 7, 'mango', 'banana', 'grapes', 'orange']\n"
     ]
    }
   ],
   "source": [
    "a.insert(4, \"apple\")\n",
    "print(a)"
   ]
  },
  {
   "cell_type": "code",
   "execution_count": 17,
   "id": "b7d4d253-60ad-44aa-b7bc-af82887411b6",
   "metadata": {},
   "outputs": [
    {
     "name": "stdout",
     "output_type": "stream",
     "text": [
      "[2, 3, 4]\n"
     ]
    }
   ],
   "source": [
    "# Q2.\n",
    "# L = [1,2,3,4,5,6,7]\n",
    "# Using the above list slice from 1:4\n",
    "\n",
    "L = [1,2,3,4,5,6,7]\n",
    "x = slice(1,4)\n",
    "print(L[x])"
   ]
  },
  {
   "cell_type": "code",
   "execution_count": 34,
   "id": "a81c76d1-f669-4b07-bb88-98fe93fd2302",
   "metadata": {},
   "outputs": [
    {
     "name": "stdin",
     "output_type": "stream",
     "text": [
      "Enter the size of the list: 5\n",
      "Enter the val 1\n",
      "Enter the val 2\n",
      "Enter the val 3\n",
      "Enter the val 4\n",
      "Enter the val 5\n"
     ]
    },
    {
     "name": "stdout",
     "output_type": "stream",
     "text": [
      "list reverse:\n",
      "5\n",
      "4\n",
      "3\n",
      "2\n",
      "1\n"
     ]
    }
   ],
   "source": [
    "# Q3. Reverse the order of given string L = [4,5,6,8,3] Without using reverse() function\n",
    "\n",
    "a = []\n",
    "size = int(input(\"Enter the size of the list:\"))\n",
    "for i in range(size):\n",
    "    val = int(input(\"Enter the val\"))\n",
    "    a.append(val)\n",
    "i=0\n",
    "j=size-1\n",
    "while(i<j):\n",
    "        t=a[i]\n",
    "        a[i]=a[j]\n",
    "        a[j]=t\n",
    "        i=i+1\n",
    "        j=j-1\n",
    "print(\"list reverse:\")\n",
    "for i in range(size):\n",
    "        print(a[i])\n",
    "    "
   ]
  },
  {
   "cell_type": "code",
   "execution_count": 39,
   "id": "620c0ac5-3a13-4293-ad52-f3aebf5b25da",
   "metadata": {},
   "outputs": [
    {
     "name": "stdout",
     "output_type": "stream",
     "text": [
      "[4, 16, 49, 9, 36, 64]\n"
     ]
    }
   ],
   "source": [
    "# Q4. Use list comprehension to square the given list L=[2,4,7,3,6,8]\n",
    "\n",
    "L=[2,4,7,3,6,8]\n",
    "\n",
    "square = [x**2 for x in  L]\n",
    "print(square)"
   ]
  },
  {
   "cell_type": "code",
   "execution_count": 41,
   "id": "59eb5606-c754-4f4f-8e23-22da78056699",
   "metadata": {},
   "outputs": [
    {
     "name": "stdout",
     "output_type": "stream",
     "text": [
      "33\n"
     ]
    }
   ],
   "source": [
    "# Q5. Create a function that takes in a tuple of integers and returns the sum of the integers. Test the \n",
    "# function with a tuple of your choice.\n",
    "\n",
    "\n",
    "def tuple_f(t):\n",
    "    return sum(t)\n",
    "\n",
    "t = (1,23,4,5)\n",
    "result = tuple_f(t)\n",
    "print(result)\n",
    "\n",
    "    \n",
    "        "
   ]
  },
  {
   "cell_type": "code",
   "execution_count": 43,
   "id": "b1e32a78-29fc-469d-a2fd-4f595a4235d6",
   "metadata": {},
   "outputs": [
    {
     "name": "stdout",
     "output_type": "stream",
     "text": [
      "{'apple', 'Litchi', 'Mango', 'Strawberry', 'banana', 'orange'}\n"
     ]
    }
   ],
   "source": [
    "# Q6. Create two sets of your favourite fruits, and use the union() method to combine them into a single set. \n",
    "# Print the resulting set to the console\n",
    "\n",
    "set1 = {\"orange\", \"banana\" , \"apple\"}\n",
    "set2 = {\"Litchi\", \"Mango\" , \"Strawberry\"}\n",
    "z = set1.union(set2)\n",
    "print(z)"
   ]
  },
  {
   "cell_type": "code",
   "execution_count": 45,
   "id": "9e32bb54-164e-4886-9806-234b22f12019",
   "metadata": {},
   "outputs": [
    {
     "name": "stdout",
     "output_type": "stream",
     "text": [
      "{'b', 'd', 'a', 'e', 'c'}\n"
     ]
    }
   ],
   "source": [
    "# Q7. Create a set of random words, and use the add() method to add a new word to the set. Print the \n",
    "# resulting set to the console\n",
    "\n",
    "se1 ={\"a\", \"b\" , \"c\" , \"d\"}\n",
    "se1.add(\"e\")\n",
    "print(se1)"
   ]
  },
  {
   "cell_type": "code",
   "execution_count": 48,
   "id": "d4b4956d-875b-4309-a903-ff1d883f627b",
   "metadata": {},
   "outputs": [
    {
     "name": "stdout",
     "output_type": "stream",
     "text": [
      "{'dog', 'cat', 'cow'}\n"
     ]
    }
   ],
   "source": [
    "# Q8. Create a set of your favourite animals, and use the remove() method to remove one animal from the \n",
    "# set. Print the resulting set to the console\n",
    "\n",
    "s = {\"dog\" , \"cat\" , \"cow\" , \"monkey\"}\n",
    "s.remove(\"monkey\")\n",
    "print(s)"
   ]
  },
  {
   "cell_type": "code",
   "execution_count": 49,
   "id": "3c857bf5-a29f-46cb-9df1-baeac9617e91",
   "metadata": {},
   "outputs": [
    {
     "name": "stdout",
     "output_type": "stream",
     "text": [
      "[('1984', 'The Shawshank Redemption'), ('To Kill a Mockingbird', 'The Godfather'), ('Pride and Prejudice', 'The Dark Knight')]\n"
     ]
    }
   ],
   "source": [
    "# Q9. favorite_books = {\"1984\", \"To Kill a Mockingbird\", \"Pride and Prejudice\"}\n",
    "\n",
    "#       favorite_movies = [\"The Shawshank Redemption\", \"The Godfather\", \"The Dark Knight\"]\n",
    "\n",
    "#       Use the zip() function to combine the book set and movie list into a list of tuples  representing book/ \n",
    "\n",
    "#  movie pairs. Print the resulting list \n",
    "\n",
    "\n",
    "\n",
    "favorite_books = {\"1984\", \"To Kill a Mockingbird\", \"Pride and Prejudice\"}\n",
    "favorite_movies = [\"The Shawshank Redemption\", \"The Godfather\", \"The Dark Knight\"]\n",
    "book_movie_pairs = list(zip(favorite_books,favorite_movies))\n",
    "print(book_movie_pairs)\n",
    "                        "
   ]
  },
  {
   "cell_type": "code",
   "execution_count": 50,
   "id": "74bc09af-862f-4d0d-b306-628e8a76c78a",
   "metadata": {},
   "outputs": [
    {
     "name": "stdout",
     "output_type": "stream",
     "text": [
      "Differences: [5, 4, -7, 4]\n"
     ]
    }
   ],
   "source": [
    "# Q10. Write a Python program to find the difference between consecutive numbers in a list\n",
    "\n",
    "def find_differences(numbers):\n",
    "    differences = []\n",
    "    for i in range(len(numbers) - 1):\n",
    "        diff = numbers[i+1] - numbers[i]\n",
    "        differences.append(diff)\n",
    "    return differences\n",
    "\n",
    "# Test the function\n",
    "my_list = [3, 8, 12, 5, 9]\n",
    "result = find_differences(my_list)\n",
    "print(\"Differences:\", result)\n"
   ]
  },
  {
   "cell_type": "code",
   "execution_count": null,
   "id": "8a05e3fa-a180-470d-ac66-6fb6c265a6ac",
   "metadata": {},
   "outputs": [],
   "source": []
  }
 ],
 "metadata": {
  "kernelspec": {
   "display_name": "Python 3 (ipykernel)",
   "language": "python",
   "name": "python3"
  },
  "language_info": {
   "codemirror_mode": {
    "name": "ipython",
    "version": 3
   },
   "file_extension": ".py",
   "mimetype": "text/x-python",
   "name": "python",
   "nbconvert_exporter": "python",
   "pygments_lexer": "ipython3",
   "version": "3.10.8"
  }
 },
 "nbformat": 4,
 "nbformat_minor": 5
}
